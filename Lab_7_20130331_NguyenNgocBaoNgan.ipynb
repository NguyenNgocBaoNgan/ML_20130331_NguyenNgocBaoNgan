{
  "nbformat": 4,
  "nbformat_minor": 0,
  "metadata": {
    "colab": {
      "provenance": [],
      "include_colab_link": true
    },
    "kernelspec": {
      "name": "python3",
      "display_name": "Python 3"
    },
    "language_info": {
      "name": "python"
    }
  },
  "cells": [
    {
      "cell_type": "markdown",
      "metadata": {
        "id": "view-in-github",
        "colab_type": "text"
      },
      "source": [
        "<a href=\"https://colab.research.google.com/github/NguyenNgocBaoNgan/ML_20130331_NguyenNgocBaoNgan/blob/main/Lab_7_20130331_NguyenNgocBaoNgan.ipynb\" target=\"_parent\"><img src=\"https://colab.research.google.com/assets/colab-badge.svg\" alt=\"Open In Colab\"/></a>"
      ]
    },
    {
      "cell_type": "markdown",
      "source": [
        "# This lab deals with **cross validation** for some classification algorithms and **clustering methods**. \n",
        "\n",
        "*   **Deadline: 23:59, 10/4/2023**\n",
        "\n"
      ],
      "metadata": {
        "id": "LMzehe0sy5wr"
      }
    },
    {
      "cell_type": "markdown",
      "source": [
        "# Import libraries"
      ],
      "metadata": {
        "id": "H4nJmxp9zGX4"
      }
    },
    {
      "cell_type": "code",
      "source": [
        "from sklearn.linear_model import LogisticRegression\n",
        "from sklearn.metrics import confusion_matrix\n",
        "from sklearn.metrics import accuracy_score\n",
        "from sklearn import datasets\n",
        "from sklearn.model_selection import train_test_split\n",
        "from sklearn.linear_model import LinearRegression\n",
        "from sklearn.metrics._plot.confusion_matrix import ConfusionMatrixDisplay\n",
        "from sklearn import metrics\n",
        "from sklearn.neighbors import KNeighborsClassifier\n",
        "import matplotlib.pyplot as plt\n",
        "import pandas as pd\n",
        "import numpy as np\n",
        "from sklearn.tree import DecisionTreeClassifier\n",
        "from sklearn import tree\n",
        "from sklearn import svm\n",
        "from sklearn.metrics import accuracy_score, precision_score, recall_score, f1_score\n",
        "from prettytable import PrettyTable\n",
        "from sklearn.ensemble import RandomForestClassifier\n",
        "\n",
        "from sklearn.feature_selection import chi2\n",
        "from sklearn.naive_bayes import GaussianNB\n",
        "from sklearn.decomposition import PCA\n",
        "from sklearn.feature_selection import RFE\n",
        "from sklearn.ensemble import ExtraTreesClassifier\n",
        "from sklearn.feature_selection import SelectKBest\n",
        "from sklearn.ensemble import RandomForestClassifier"
      ],
      "metadata": {
        "id": "u6X8PIuL0fxr"
      },
      "execution_count": null,
      "outputs": []
    },
    {
      "cell_type": "code",
      "execution_count": null,
      "metadata": {
        "id": "DoVWQ8AEyc-C"
      },
      "outputs": [],
      "source": [
        "# CROSS VALIDATION\n",
        "from sklearn.model_selection import cross_validate\n",
        "from sklearn.model_selection import KFold\n",
        "from sklearn.model_selection import cross_val_score\n",
        "from sklearn.cluster import KMeans\n",
        "from sklearn import datasets\n",
        "from sklearn.metrics import accuracy_score\n",
        "from scipy.stats import mode\n",
        "from scipy.cluster import hierarchy\n",
        "from scipy.cluster.hierarchy import dendrogram, linkage\n",
        "import scipy.cluster.hierarchy as shc\n",
        "from sklearn.preprocessing import StandardScaler\n",
        "from sklearn.datasets import make_blobs\n",
        "from sklearn.cluster import AgglomerativeClustering"
      ]
    },
    {
      "cell_type": "markdown",
      "source": [
        "#Task 1. With **iris** dataset\n",
        "*  1.1. Apply **SVM** algorithm with cross validation\n"
      ],
      "metadata": {
        "id": "x_dG9SA5OhGT"
      }
    },
    {
      "cell_type": "code",
      "source": [
        "#code\n",
        "data = datasets.load_iris()\n",
        "X = data['data']\n",
        "y = data['target']\n",
        "\n",
        "Xtrain,Xtest, ytrain,ytest = train_test_split(X, y,test_size=0.3, random_state=0)"
      ],
      "metadata": {
        "id": "62jExOZ952fF"
      },
      "execution_count": null,
      "outputs": []
    },
    {
      "cell_type": "code",
      "source": [
        "clf = svm.SVC(kernel='sigmoid',random_state=0) \n",
        "scores = cross_validate(clf,X,y,scoring='accuracy',cv=10)\n",
        "print(sorted(scores.keys()))\n",
        "print(np.mean(scores['test_score']))\n"
      ],
      "metadata": {
        "colab": {
          "base_uri": "https://localhost:8080/"
        },
        "id": "wsOsYHbL1A20",
        "outputId": "b4ec42ae-bf01-452c-f58d-6d9ad79aac2c"
      },
      "execution_count": null,
      "outputs": [
        {
          "output_type": "stream",
          "name": "stdout",
          "text": [
            "['fit_time', 'score_time', 'test_score']\n",
            "0.06666666666666668\n"
          ]
        }
      ]
    },
    {
      "cell_type": "markdown",
      "source": [
        "*  1.2 Apply **feature selection** to the dataset and then use **RandomForest** algorithm with cross validation "
      ],
      "metadata": {
        "id": "2g--8cng53sY"
      }
    },
    {
      "cell_type": "code",
      "source": [
        "X.shape  #in so mau du lieu, tong so thuoc tinh\n",
        "X_new = SelectKBest(chi2, k=2).fit_transform(X,y)\n",
        "X_new.shape #sau khi scale\n",
        "\n",
        "#Create a Random Forest Classifier\n",
        "clf_rf=RandomForestClassifier(n_estimators=100)\n",
        "#Train the model using the training sets\n",
        "scores_acc = cross_validate(clf_rf,X_new,y,scoring='accuracy',cv=10)\n",
        "# scores_pre = cross_validate(clf_rf,X,y,scoring='precision_macro',cv=10)\n",
        "# scores_recall = cross_validate(clf_rf,X,y,scoring='recall_macro',cv=10)\n",
        "# scores_f1 = cross_validate(clf_rf,X,y,scoring='f1_macro',cv=10)\n",
        "\n",
        "print(sorted(scores_acc.keys()))\n",
        "print(np.mean(scores_acc['test_score']))"
      ],
      "metadata": {
        "colab": {
          "base_uri": "https://localhost:8080/"
        },
        "id": "-JL4s7kW4e0E",
        "outputId": "0460cfa2-8eff-4723-9e94-4e38cb1202a2"
      },
      "execution_count": null,
      "outputs": [
        {
          "output_type": "stream",
          "name": "stdout",
          "text": [
            "['fit_time', 'score_time', 'test_score']\n",
            "0.9666666666666666\n"
          ]
        }
      ]
    },
    {
      "cell_type": "markdown",
      "source": [
        "#Task 2. With mnist dataset: \n",
        "*   2.1. Apply **K-Means** algorithm using k=10, "
      ],
      "metadata": {
        "id": "kNv07ARGzOUm"
      }
    },
    {
      "cell_type": "code",
      "source": [
        "# code\n",
        "mnist = datasets.load_digits()\n",
        "X = mnist['data']\n",
        "y = mnist['target']\n",
        "\n",
        "X_train, X_test, y_train, y_test = train_test_split(X, y, test_size=0.3, random_state=42)"
      ],
      "metadata": {
        "id": "sOsg77IBzEyo"
      },
      "execution_count": null,
      "outputs": []
    },
    {
      "cell_type": "code",
      "source": [
        "kmeans = KMeans(n_clusters = 10, random_state = 0)\n",
        "kmeans.fit(mnist.data)\n",
        "clusters = kmeans.predict(mnist.data)\n",
        "kmeans.cluster_centers_.shape"
      ],
      "metadata": {
        "colab": {
          "base_uri": "https://localhost:8080/"
        },
        "id": "mwjLlU6m9BAj",
        "outputId": "94f4b179-5d40-4408-d9ce-f4987dc9b00d"
      },
      "execution_count": null,
      "outputs": [
        {
          "output_type": "stream",
          "name": "stderr",
          "text": [
            "/usr/local/lib/python3.9/dist-packages/sklearn/cluster/_kmeans.py:870: FutureWarning: The default value of `n_init` will change from 10 to 'auto' in 1.4. Set the value of `n_init` explicitly to suppress the warning\n",
            "  warnings.warn(\n"
          ]
        },
        {
          "output_type": "execute_result",
          "data": {
            "text/plain": [
              "(10, 64)"
            ]
          },
          "metadata": {},
          "execution_count": 5
        }
      ]
    },
    {
      "cell_type": "code",
      "source": [
        "labels = np.zeros_like(clusters)\n",
        "for i in range(10):\n",
        "    mask = (clusters == i)\n",
        "  #print(mask)\n",
        "    labels[mask] = mode(mnist.target[mask])[0]\n",
        "  #print(labels[mask])\n",
        "print(\"accuracy:\",accuracy_score(mnist.target, labels))\n",
        "print(\"precision:\",precision_score(mnist.target, labels, average='macro'))\n",
        "print(\"f1:\",f1_score(mnist.target, labels, average='macro'))\n",
        "print(\"recall:\",recall_score(mnist.target, labels, average='macro'))"
      ],
      "metadata": {
        "colab": {
          "base_uri": "https://localhost:8080/"
        },
        "id": "1zfYHD-O-Lj9",
        "outputId": "d165c8ca-ca25-4987-e202-e298c017d0dd"
      },
      "execution_count": null,
      "outputs": [
        {
          "output_type": "stream",
          "name": "stdout",
          "text": [
            "accuracy: 0.7935447968836951\n",
            "precision: 0.8049510946090495\n",
            "f1: 0.7899801068577756\n",
            "recall: 0.7935735538874538\n"
          ]
        },
        {
          "output_type": "stream",
          "name": "stderr",
          "text": [
            "<ipython-input-6-308f25cde69e>:5: FutureWarning: Unlike other reduction functions (e.g. `skew`, `kurtosis`), the default behavior of `mode` typically preserves the axis it acts along. In SciPy 1.11.0, this behavior will change: the default value of `keepdims` will become False, the `axis` over which the statistic is taken will be eliminated, and the value None will no longer be accepted. Set `keepdims` to True or False to avoid this warning.\n",
            "  labels[mask] = mode(mnist.target[mask])[0]\n"
          ]
        }
      ]
    },
    {
      "cell_type": "markdown",
      "source": [
        "*   2.2. Compare the obtained result with with other classification algorithms such as **Randomforest**, **kNN**, and **Naïve Bayes** in terms of accuracy, precision, recall, f1 using cross validation. \n"
      ],
      "metadata": {
        "id": "pnoVB8J4vV36"
      }
    },
    {
      "cell_type": "code",
      "source": [
        "# code\n",
        "# Random Forest\n",
        "clf_rf = svm.SVC(kernel='sigmoid',random_state=0) \n",
        "scores_acc_rf = cross_validate(clf_rf,X,y,scoring='accuracy',cv=10)\n",
        "scores_pre_rf = cross_validate(clf_rf,X,y,scoring='precision_macro',cv=10)\n",
        "scores_recall_rf = cross_validate(clf_rf,X,y,scoring='recall_macro',cv=10)\n",
        "scores_f1_rf = cross_validate(clf_rf,X,y,scoring='f1_macro',cv=10)\n",
        "# print(sorted(scores.keys()))\n",
        "# print(np.mean(scores['test_score']))\n",
        "\n",
        "# kNN\n",
        "knn = KNeighborsClassifier(n_neighbors=5)\n",
        "scores_acc_knn = cross_validate(knn,X,y,scoring='accuracy',cv=10)\n",
        "scores_pre_knn = cross_validate(knn,X,y,scoring='precision_macro',cv=10)\n",
        "scores_recall_knn = cross_validate(knn,X,y,scoring='recall_macro',cv=10)\n",
        "scores_f1_knn = cross_validate(knn,X,y,scoring='f1_macro',cv=10)\n",
        "\n",
        "# Naïve Bayes\n",
        "nb = GaussianNB()\n",
        "scores_acc_nb = cross_validate(nb,X,y,scoring='accuracy',cv=10)\n",
        "scores_pre_nb = cross_validate(nb,X,y,scoring='precision_macro',cv=10)\n",
        "scores_recall_nb = cross_validate(nb,X,y,scoring='recall_macro',cv=10)\n",
        "scores_f1_nb = cross_validate(nb,X,y,scoring='f1_macro',cv=10)\n"
      ],
      "metadata": {
        "id": "-ZTSvsJdvYqI"
      },
      "execution_count": null,
      "outputs": []
    },
    {
      "cell_type": "code",
      "source": [
        "t= PrettyTable(['','acc','pre','recall','f1'])\n",
        "\n",
        "\n",
        "t.add_row(['Random Forest', np.mean(scores_acc_rf['test_score']),np.mean(scores_pre_rf['test_score']),np.mean(scores_recall_rf['test_score']),np.mean(scores_f1_rf['test_score'])])\n",
        "t.add_row(['kNN', np.mean(scores_acc_knn['test_score']),np.mean(scores_pre_knn['test_score']),np.mean(scores_recall_knn['test_score']),np.mean(scores_f1_knn['test_score'])])\n",
        "t.add_row(['Naive Bayes', np.mean(scores_acc_nb['test_score']),np.mean(scores_pre_nb['test_score']),np.mean(scores_recall_nb['test_score']),np.mean(scores_f1_nb['test_score'])])\n",
        "print(t)"
      ],
      "metadata": {
        "colab": {
          "base_uri": "https://localhost:8080/"
        },
        "id": "bNwffwh2HJEe",
        "outputId": "3b1acf8e-31c2-4ed1-f716-046a70357eb8"
      },
      "execution_count": null,
      "outputs": [
        {
          "output_type": "stream",
          "name": "stdout",
          "text": [
            "+---------------+--------------------+--------------------+--------------------+--------------------+\n",
            "|               |        acc         |        pre         |       recall       |         f1         |\n",
            "+---------------+--------------------+--------------------+--------------------+--------------------+\n",
            "| Random Forest | 0.8848013656114215 | 0.9011564046683042 | 0.8847832817337462 | 0.8857254060485733 |\n",
            "|      kNN      | 0.9716294227188081 | 0.9745645728626379 | 0.9715187478500174 | 0.9715505814420695 |\n",
            "|  Naive Bayes  | 0.8113904407200497 | 0.8480837289405493 | 0.8114189886480908 | 0.8090382615408214 |\n",
            "+---------------+--------------------+--------------------+--------------------+--------------------+\n"
          ]
        }
      ]
    },
    {
      "cell_type": "markdown",
      "source": [
        "*   2.3. From the obtained results, **which approach is better** for this problem: Supervised learning or Unsupervised learning?"
      ],
      "metadata": {
        "id": "uyey-ndXvZlb"
      }
    },
    {
      "cell_type": "code",
      "source": [
        "#code\n",
        "# from the obtained results, supervised learning is better"
      ],
      "metadata": {
        "id": "Qzh_D-rgvbv9"
      },
      "execution_count": null,
      "outputs": []
    },
    {
      "cell_type": "markdown",
      "source": [
        "2.4. Apply **AgglomerativeClustering** algorithm to mnist dataset using the number of clusters is 10"
      ],
      "metadata": {
        "id": "ol1U_T_NvcqV"
      }
    },
    {
      "cell_type": "markdown",
      "source": [
        "#Task 3. \n",
        "For given dataset (shopping-data.csv) including 5 attributes: **CustomerID**, **Genre**, **Age**, **Annual Income**, and **Spending Score**.\n",
        "*   3.1. Using the **scipy library** to create the dendrograms for the given dataset (remember drop categorical attributes: **CustomerID**, **Genre**)\n",
        "\n",
        "\n",
        "\n"
      ],
      "metadata": {
        "id": "b52OPWPD2afi"
      }
    },
    {
      "cell_type": "code",
      "source": [
        "#code\n",
        "# import dataset\n",
        "from google.colab import drive\n",
        "drive.mount('/content/gdrive')\n",
        "%cd '/content/gdrive/MyDrive/ML/Lab7'"
      ],
      "metadata": {
        "id": "YYY2dLtH3P8H",
        "colab": {
          "base_uri": "https://localhost:8080/"
        },
        "outputId": "558e7ffa-aed4-411d-f6a8-92cf1879c782"
      },
      "execution_count": null,
      "outputs": [
        {
          "output_type": "stream",
          "name": "stdout",
          "text": [
            "Mounted at /content/gdrive\n",
            "/content/gdrive/MyDrive/ML/Lab7\n"
          ]
        }
      ]
    },
    {
      "cell_type": "code",
      "source": [
        "ds = pd.read_csv(\"shopping-data.csv\")\n",
        "column_drop =['CustomerID','Genre']\n",
        "ds.drop(column_drop, axis=1, inplace=True)"
      ],
      "metadata": {
        "id": "x_ETwMVwaBDk"
      },
      "execution_count": null,
      "outputs": []
    },
    {
      "cell_type": "code",
      "source": [
        "# temp = hierarchy.linkage(ds, 'single')\n",
        "# plt.figure()\n",
        " \n",
        "# dn = hierarchy.dendrogram(\n",
        "#     temp, above_threshold_color=\"green\", color_threshold=.7)\n",
        "plt.figure(figsize=(10, 7))\n",
        "plt.title(\"Customer Dendograms\")\n",
        "dend = shc.dendrogram(shc.linkage(ds, method='ward'))"
      ],
      "metadata": {
        "colab": {
          "base_uri": "https://localhost:8080/",
          "height": 621
        },
        "id": "8L1en2vjTmpE",
        "outputId": "e80dc22e-d11c-40df-97a3-10fec34bd865"
      },
      "execution_count": null,
      "outputs": [
        {
          "output_type": "display_data",
          "data": {
            "text/plain": [
              "<Figure size 1000x700 with 1 Axes>"
            ],
            "image/png": "[encoded data removed]"
          },
          "metadata": {}
        }
      ]
    },
    {
      "cell_type": "markdown",
      "source": [
        "*   3.2. Apply K-Means to the preprocessed dataset with k belongs to [2,10]. Then compute SSE values and plot them to find the best value of k."
      ],
      "metadata": {
        "id": "eHlh_dWUyEMr"
      }
    },
    {
      "cell_type": "code",
      "source": [
        "#code\n",
        "kmeans_1 = KMeans(n_clusters = 3, random_state = 0)\n",
        "kmeans_1.fit(ds)\n",
        "clusters = kmeans.predict(ds)\n",
        "kmeans_1.cluster_centers_.shape"
      ],
      "metadata": {
        "id": "8vx3mfIidu4P",
        "colab": {
          "base_uri": "https://localhost:8080/"
        },
        "outputId": "9d6c8c17-02f5-42cf-ca03-445bc821c434"
      },
      "execution_count": null,
      "outputs": [
        {
          "output_type": "stream",
          "name": "stderr",
          "text": [
            "/usr/local/lib/python3.9/dist-packages/sklearn/cluster/_kmeans.py:870: FutureWarning: The default value of `n_init` will change from 10 to 'auto' in 1.4. Set the value of `n_init` explicitly to suppress the warning\n",
            "  warnings.warn(\n"
          ]
        },
        {
          "output_type": "execute_result",
          "data": {
            "text/plain": [
              "(3, 3)"
            ]
          },
          "metadata": {},
          "execution_count": 13
        }
      ]
    },
    {
      "cell_type": "code",
      "source": [
        "features, true_labels = make_blobs(\n",
        "    n_samples=200,\n",
        "    centers=3,\n",
        "    cluster_std=2.75,\n",
        "    random_state=42\n",
        ")"
      ],
      "metadata": {
        "id": "XsMdFwZZfYbZ"
      },
      "execution_count": null,
      "outputs": []
    },
    {
      "cell_type": "code",
      "source": [
        "sse = []\n",
        "scaler = StandardScaler()\n",
        "scaled_features = scaler.fit_transform(features)\n",
        "scaled_features[:5]\n",
        "# for k in range(2, 10):\n",
        "#   kmeans_1 = KMeans(n_clusters=k, random_state = 0)\n",
        "#   kmeans_1.fit(scaled_features)\n",
        "#   sse.append(kmeans_1.inertia_)\n",
        "kmeans_kwargs = {\n",
        "    \"init\": \"random\",\n",
        "    \"n_init\": 10,\n",
        "    \"max_iter\": 300,\n",
        "    \"random_state\": 42,\n",
        "}\n",
        "\n",
        "# A list holds the SSE values for each k\n",
        "sse = []\n",
        "for k in range(2, 10):\n",
        "    kmeans = KMeans(n_clusters=k, **kmeans_kwargs)\n",
        "    kmeans.fit(scaled_features)\n",
        "    sse.append(kmeans.inertia_)"
      ],
      "metadata": {
        "id": "LaM4_T6UX6Kl"
      },
      "execution_count": null,
      "outputs": []
    },
    {
      "cell_type": "code",
      "source": [
        " plt.style.use(\"fivethirtyeight\")\n",
        " plt.plot(range(2, 10), sse)\n",
        " plt.xticks(range(2, 10))\n",
        " plt.xlabel(\"Number of Clusters\")\n",
        " plt.ylabel(\"SSE\")\n",
        " plt.show()"
      ],
      "metadata": {
        "colab": {
          "base_uri": "https://localhost:8080/",
          "height": 484
        },
        "id": "FkWYkB5wfT4n",
        "outputId": "bdfb179d-338d-4ea3-d70b-88ad522ae971"
      },
      "execution_count": null,
      "outputs": [
        {
          "output_type": "display_data",
          "data": {
            "text/plain": [
              "<Figure size 640x480 with 1 Axes>"
            ],
            "image/png": "[encoded data removed]"
          },
          "metadata": {}
        }
      ]
    },
    {
      "cell_type": "markdown",
      "source": [
        "*   3.2. From the obtained dengrograms, choose an appropriate number of clusters and apply **AgglomerativeClustering** algorithm to the given dataset"
      ],
      "metadata": {
        "id": "RJpsTIiyv-1h"
      }
    },
    {
      "cell_type": "code",
      "source": [
        "#code\n",
        "# features = [\"Age\", \"Annual Income (k$)\", \"Spending Score (1-100)\"]\n",
        "# X = ds[features]\n",
        "\n",
        "cluster = AgglomerativeClustering(n_clusters=2, affinity='euclidean', linkage='ward')\n",
        "cluster.fit_predict(ds)\n",
        "cluster.labels_"
      ],
      "metadata": {
        "id": "5ZE7A0Au1Pg0",
        "colab": {
          "base_uri": "https://localhost:8080/"
        },
        "outputId": "35add50f-69db-45b8-e377-d8eae9cb0ca7"
      },
      "execution_count": null,
      "outputs": [
        {
          "output_type": "stream",
          "name": "stderr",
          "text": [
            "/usr/local/lib/python3.9/dist-packages/sklearn/cluster/_agglomerative.py:983: FutureWarning: Attribute `affinity` was deprecated in version 1.2 and will be removed in 1.4. Use `metric` instead\n",
            "  warnings.warn(\n"
          ]
        },
        {
          "output_type": "execute_result",
          "data": {
            "text/plain": [
              "array([1, 1, 1, 1, 1, 1, 1, 1, 1, 1, 1, 1, 1, 1, 1, 1, 1, 1, 1, 1, 1, 1,\n",
              "       1, 1, 1, 1, 1, 1, 1, 1, 1, 1, 1, 1, 1, 1, 1, 1, 1, 1, 1, 1, 1, 1,\n",
              "       1, 1, 1, 1, 1, 1, 1, 1, 1, 1, 1, 1, 1, 1, 1, 1, 1, 1, 1, 1, 1, 1,\n",
              "       1, 1, 1, 1, 1, 1, 1, 1, 1, 1, 1, 1, 1, 1, 1, 1, 1, 1, 1, 1, 1, 1,\n",
              "       1, 1, 1, 1, 1, 1, 1, 1, 1, 1, 1, 1, 1, 1, 1, 1, 1, 1, 1, 1, 1, 1,\n",
              "       1, 1, 1, 1, 1, 1, 1, 1, 1, 1, 1, 1, 1, 0, 1, 0, 0, 0, 0, 0, 0, 0,\n",
              "       1, 0, 0, 0, 0, 0, 0, 0, 0, 0, 1, 0, 0, 0, 0, 0, 0, 0, 0, 0, 0, 0,\n",
              "       0, 0, 0, 0, 0, 0, 0, 0, 0, 0, 0, 0, 0, 0, 0, 0, 0, 0, 0, 0, 0, 0,\n",
              "       0, 0, 0, 0, 0, 0, 0, 0, 0, 0, 0, 0, 0, 0, 0, 0, 0, 0, 0, 0, 0, 0,\n",
              "       0, 0])"
            ]
          },
          "metadata": {},
          "execution_count": 30
        }
      ]
    },
    {
      "cell_type": "markdown",
      "source": [
        "#Finally,\n",
        "Save a copy in your Github. Remember renaming the notebook."
      ],
      "metadata": {
        "id": "Ok7RGkea_b7n"
      }
    }
  ]
}