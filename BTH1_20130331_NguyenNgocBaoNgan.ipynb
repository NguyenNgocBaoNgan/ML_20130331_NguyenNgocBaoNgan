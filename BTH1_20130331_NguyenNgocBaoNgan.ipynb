{
  "nbformat": 4,
  "nbformat_minor": 0,
  "metadata": {
    "colab": {
      "provenance": [],
      "authorship_tag": "ABX9TyN1GCQC1kewOU++lpvxe0Wb",
      "include_colab_link": true
    },
    "kernelspec": {
      "name": "python3",
      "display_name": "Python 3"
    },
    "language_info": {
      "name": "python"
    }
  },
  "cells": [
    {
      "cell_type": "markdown",
      "metadata": {
        "id": "view-in-github",
        "colab_type": "text"
      },
      "source": [
        "<a href=\"https://colab.research.google.com/github/NguyenNgocBaoNgan/ML_20130331_NguyenNgocBaoNgan/blob/main/BTH1_20130331_NguyenNgocBaoNgan.ipynb\" target=\"_parent\"><img src=\"https://colab.research.google.com/assets/colab-badge.svg\" alt=\"Open In Colab\"/></a>"
      ]
    },
    {
      "cell_type": "code",
      "execution_count": null,
      "metadata": {
        "id": "Z6QC8zyUBOMN"
      },
      "outputs": [],
      "source": [
        "\n",
        "n = int(input(\"n:\"))\n",
        "list=[]\n",
        "for i in range (n):\n",
        "  list.append(i)\n",
        "print(list)\n",
        "print(max(list))\n",
        "print(min(list))\n",
        "print(sum(list))\n",
        "\n",
        "for i in list:\n",
        "  if(i<0):\n",
        "    print('negative')\n",
        "  else:\n",
        "    print('positive')\n"
      ]
    },
    {
      "cell_type": "code",
      "source": [
        "def Sn(n):\n",
        "  if(n==0):\n",
        "    return 1\n",
        "  else:\n",
        "    return Sn(n-1) + 1/(2*n +1)\n",
        "\n",
        "print(Sn(1))"
      ],
      "metadata": {
        "colab": {
          "base_uri": "https://localhost:8080/"
        },
        "id": "wCOiSKwBKS0U",
        "outputId": "c1d12b84-ddfd-4000-ea58-255d29552426"
      },
      "execution_count": null,
      "outputs": [
        {
          "output_type": "stream",
          "name": "stdout",
          "text": [
            "1.3333333333333333\n"
          ]
        }
      ]
    },
    {
      "cell_type": "code",
      "source": [
        "class Order():\n",
        "  def __init__(self,id,customer,employee,date):\n",
        "    self.__id = id\n",
        "    self.__customer = customer\n",
        "    self.__employee = employee\n",
        "    self.__date = date\n",
        "\n",
        "class Order \n",
        "\n",
        "\n"
      ],
      "metadata": {
        "id": "fJn4iGnwLobs"
      },
      "execution_count": null,
      "outputs": []
    }
  ]
}